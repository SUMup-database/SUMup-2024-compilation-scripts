{
 "cells": [
  {
   "cell_type": "markdown",
   "id": "c3180625-db5a-4ccd-8514-2a56b8f7d9ed",
   "metadata": {},
   "source": [
    "# Append new data to SUMup datasets\n",
    "\n",
    "#### Created 26 May 2022 by Megan Thompson-Munson"
   ]
  },
  {
   "cell_type": "code",
   "execution_count": 123,
   "id": "66ede097-f99b-4232-a6c1-d4453d39d6b0",
   "metadata": {},
   "outputs": [],
   "source": [
    "import pandas as pd\n",
    "import numpy as np\n",
    "import matplotlib.pyplot as plt\n",
    "import matplotlib as mpl\n",
    "import matplotlib_inline.backend_inline as mplbi\n",
    "mplbi.set_matplotlib_formats('svg')"
   ]
  },
  {
   "cell_type": "code",
   "execution_count": 124,
   "id": "bdb60959-9c9b-4ff2-ad15-241b13245174",
   "metadata": {},
   "outputs": [],
   "source": [
    "path = '/Users/metm9666/Dropbox/research/proj_SUMup/2022_release/'"
   ]
  },
  {
   "cell_type": "markdown",
   "id": "842d1d95-8b91-4dd7-86d7-4766a3e6f159",
   "metadata": {},
   "source": [
    "## Subdataset: Density"
   ]
  },
  {
   "cell_type": "markdown",
   "id": "ec93d51a-7921-43f7-9926-85a3768faa61",
   "metadata": {},
   "source": [
    "### Open existing, fixed SUMup dataset"
   ]
  },
  {
   "cell_type": "code",
   "execution_count": 125,
   "id": "c8adbd95-a1a3-4d70-82d6-757360bf9489",
   "metadata": {},
   "outputs": [
    {
     "data": {
      "text/html": [
       "<div>\n",
       "<style scoped>\n",
       "    .dataframe tbody tr th:only-of-type {\n",
       "        vertical-align: middle;\n",
       "    }\n",
       "\n",
       "    .dataframe tbody tr th {\n",
       "        vertical-align: top;\n",
       "    }\n",
       "\n",
       "    .dataframe thead th {\n",
       "        text-align: right;\n",
       "    }\n",
       "</style>\n",
       "<table border=\"1\" class=\"dataframe\">\n",
       "  <thead>\n",
       "    <tr style=\"text-align: right;\">\n",
       "      <th></th>\n",
       "      <th>Profile</th>\n",
       "      <th>Citation</th>\n",
       "      <th>Method</th>\n",
       "      <th>Date</th>\n",
       "      <th>Timestamp</th>\n",
       "      <th>Latitude</th>\n",
       "      <th>Longitude</th>\n",
       "      <th>Elevation</th>\n",
       "      <th>SDOS_Flag</th>\n",
       "      <th>Start_Depth</th>\n",
       "      <th>Stop_Depth</th>\n",
       "      <th>Midpoint</th>\n",
       "      <th>Density</th>\n",
       "      <th>Error</th>\n",
       "    </tr>\n",
       "  </thead>\n",
       "  <tbody>\n",
       "    <tr>\n",
       "      <th>0</th>\n",
       "      <td>1</td>\n",
       "      <td>1</td>\n",
       "      <td>4</td>\n",
       "      <td>20020000</td>\n",
       "      <td>2002-01-01</td>\n",
       "      <td>-89.93330</td>\n",
       "      <td>144.393799</td>\n",
       "      <td>2808.0</td>\n",
       "      <td>0</td>\n",
       "      <td>-9999.0</td>\n",
       "      <td>-9999.0</td>\n",
       "      <td>3.305</td>\n",
       "      <td>420.97000</td>\n",
       "      <td>-9999.0</td>\n",
       "    </tr>\n",
       "    <tr>\n",
       "      <th>1</th>\n",
       "      <td>1</td>\n",
       "      <td>1</td>\n",
       "      <td>4</td>\n",
       "      <td>20020000</td>\n",
       "      <td>2002-01-01</td>\n",
       "      <td>-89.93330</td>\n",
       "      <td>144.393799</td>\n",
       "      <td>2808.0</td>\n",
       "      <td>0</td>\n",
       "      <td>-9999.0</td>\n",
       "      <td>-9999.0</td>\n",
       "      <td>4.255</td>\n",
       "      <td>414.75998</td>\n",
       "      <td>-9999.0</td>\n",
       "    </tr>\n",
       "    <tr>\n",
       "      <th>2</th>\n",
       "      <td>1</td>\n",
       "      <td>1</td>\n",
       "      <td>4</td>\n",
       "      <td>20020000</td>\n",
       "      <td>2002-01-01</td>\n",
       "      <td>-89.93330</td>\n",
       "      <td>144.393799</td>\n",
       "      <td>2808.0</td>\n",
       "      <td>0</td>\n",
       "      <td>-9999.0</td>\n",
       "      <td>-9999.0</td>\n",
       "      <td>5.245</td>\n",
       "      <td>418.84000</td>\n",
       "      <td>-9999.0</td>\n",
       "    </tr>\n",
       "    <tr>\n",
       "      <th>3</th>\n",
       "      <td>1</td>\n",
       "      <td>1</td>\n",
       "      <td>4</td>\n",
       "      <td>20020000</td>\n",
       "      <td>2002-01-01</td>\n",
       "      <td>-89.93330</td>\n",
       "      <td>144.393799</td>\n",
       "      <td>2808.0</td>\n",
       "      <td>0</td>\n",
       "      <td>-9999.0</td>\n",
       "      <td>-9999.0</td>\n",
       "      <td>6.220</td>\n",
       "      <td>437.48000</td>\n",
       "      <td>-9999.0</td>\n",
       "    </tr>\n",
       "    <tr>\n",
       "      <th>4</th>\n",
       "      <td>1</td>\n",
       "      <td>1</td>\n",
       "      <td>4</td>\n",
       "      <td>20020000</td>\n",
       "      <td>2002-01-01</td>\n",
       "      <td>-89.93330</td>\n",
       "      <td>144.393799</td>\n",
       "      <td>2808.0</td>\n",
       "      <td>0</td>\n",
       "      <td>-9999.0</td>\n",
       "      <td>-9999.0</td>\n",
       "      <td>7.205</td>\n",
       "      <td>445.80002</td>\n",
       "      <td>-9999.0</td>\n",
       "    </tr>\n",
       "    <tr>\n",
       "      <th>...</th>\n",
       "      <td>...</td>\n",
       "      <td>...</td>\n",
       "      <td>...</td>\n",
       "      <td>...</td>\n",
       "      <td>...</td>\n",
       "      <td>...</td>\n",
       "      <td>...</td>\n",
       "      <td>...</td>\n",
       "      <td>...</td>\n",
       "      <td>...</td>\n",
       "      <td>...</td>\n",
       "      <td>...</td>\n",
       "      <td>...</td>\n",
       "      <td>...</td>\n",
       "    </tr>\n",
       "    <tr>\n",
       "      <th>2282664</th>\n",
       "      <td>1944</td>\n",
       "      <td>193</td>\n",
       "      <td>1</td>\n",
       "      <td>20181210</td>\n",
       "      <td>2018-12-10</td>\n",
       "      <td>-70.80362</td>\n",
       "      <td>-71.714775</td>\n",
       "      <td>-9999.0</td>\n",
       "      <td>0</td>\n",
       "      <td>0.6</td>\n",
       "      <td>0.7</td>\n",
       "      <td>0.650</td>\n",
       "      <td>408.00000</td>\n",
       "      <td>-9999.0</td>\n",
       "    </tr>\n",
       "    <tr>\n",
       "      <th>2282665</th>\n",
       "      <td>1944</td>\n",
       "      <td>193</td>\n",
       "      <td>1</td>\n",
       "      <td>20181210</td>\n",
       "      <td>2018-12-10</td>\n",
       "      <td>-70.80362</td>\n",
       "      <td>-71.714775</td>\n",
       "      <td>-9999.0</td>\n",
       "      <td>0</td>\n",
       "      <td>0.7</td>\n",
       "      <td>0.8</td>\n",
       "      <td>0.750</td>\n",
       "      <td>344.00000</td>\n",
       "      <td>-9999.0</td>\n",
       "    </tr>\n",
       "    <tr>\n",
       "      <th>2282666</th>\n",
       "      <td>1944</td>\n",
       "      <td>193</td>\n",
       "      <td>1</td>\n",
       "      <td>20181210</td>\n",
       "      <td>2018-12-10</td>\n",
       "      <td>-70.80362</td>\n",
       "      <td>-71.714775</td>\n",
       "      <td>-9999.0</td>\n",
       "      <td>0</td>\n",
       "      <td>0.8</td>\n",
       "      <td>0.9</td>\n",
       "      <td>0.850</td>\n",
       "      <td>385.00000</td>\n",
       "      <td>-9999.0</td>\n",
       "    </tr>\n",
       "    <tr>\n",
       "      <th>2282667</th>\n",
       "      <td>1944</td>\n",
       "      <td>193</td>\n",
       "      <td>1</td>\n",
       "      <td>20181210</td>\n",
       "      <td>2018-12-10</td>\n",
       "      <td>-70.80362</td>\n",
       "      <td>-71.714775</td>\n",
       "      <td>-9999.0</td>\n",
       "      <td>0</td>\n",
       "      <td>0.9</td>\n",
       "      <td>1.0</td>\n",
       "      <td>0.950</td>\n",
       "      <td>370.00000</td>\n",
       "      <td>-9999.0</td>\n",
       "    </tr>\n",
       "    <tr>\n",
       "      <th>2282668</th>\n",
       "      <td>1944</td>\n",
       "      <td>193</td>\n",
       "      <td>1</td>\n",
       "      <td>20181210</td>\n",
       "      <td>2018-12-10</td>\n",
       "      <td>-70.80362</td>\n",
       "      <td>-71.714775</td>\n",
       "      <td>-9999.0</td>\n",
       "      <td>0</td>\n",
       "      <td>1.0</td>\n",
       "      <td>1.1</td>\n",
       "      <td>1.050</td>\n",
       "      <td>402.00000</td>\n",
       "      <td>-9999.0</td>\n",
       "    </tr>\n",
       "  </tbody>\n",
       "</table>\n",
       "<p>2282669 rows × 14 columns</p>\n",
       "</div>"
      ],
      "text/plain": [
       "         Profile  Citation  Method      Date   Timestamp  Latitude  \\\n",
       "0              1         1       4  20020000  2002-01-01 -89.93330   \n",
       "1              1         1       4  20020000  2002-01-01 -89.93330   \n",
       "2              1         1       4  20020000  2002-01-01 -89.93330   \n",
       "3              1         1       4  20020000  2002-01-01 -89.93330   \n",
       "4              1         1       4  20020000  2002-01-01 -89.93330   \n",
       "...          ...       ...     ...       ...         ...       ...   \n",
       "2282664     1944       193       1  20181210  2018-12-10 -70.80362   \n",
       "2282665     1944       193       1  20181210  2018-12-10 -70.80362   \n",
       "2282666     1944       193       1  20181210  2018-12-10 -70.80362   \n",
       "2282667     1944       193       1  20181210  2018-12-10 -70.80362   \n",
       "2282668     1944       193       1  20181210  2018-12-10 -70.80362   \n",
       "\n",
       "          Longitude  Elevation  SDOS_Flag  Start_Depth  Stop_Depth  Midpoint  \\\n",
       "0        144.393799     2808.0          0      -9999.0     -9999.0     3.305   \n",
       "1        144.393799     2808.0          0      -9999.0     -9999.0     4.255   \n",
       "2        144.393799     2808.0          0      -9999.0     -9999.0     5.245   \n",
       "3        144.393799     2808.0          0      -9999.0     -9999.0     6.220   \n",
       "4        144.393799     2808.0          0      -9999.0     -9999.0     7.205   \n",
       "...             ...        ...        ...          ...         ...       ...   \n",
       "2282664  -71.714775    -9999.0          0          0.6         0.7     0.650   \n",
       "2282665  -71.714775    -9999.0          0          0.7         0.8     0.750   \n",
       "2282666  -71.714775    -9999.0          0          0.8         0.9     0.850   \n",
       "2282667  -71.714775    -9999.0          0          0.9         1.0     0.950   \n",
       "2282668  -71.714775    -9999.0          0          1.0         1.1     1.050   \n",
       "\n",
       "           Density   Error  \n",
       "0        420.97000 -9999.0  \n",
       "1        414.75998 -9999.0  \n",
       "2        418.84000 -9999.0  \n",
       "3        437.48000 -9999.0  \n",
       "4        445.80002 -9999.0  \n",
       "...            ...     ...  \n",
       "2282664  408.00000 -9999.0  \n",
       "2282665  344.00000 -9999.0  \n",
       "2282666  385.00000 -9999.0  \n",
       "2282667  370.00000 -9999.0  \n",
       "2282668  402.00000 -9999.0  \n",
       "\n",
       "[2282669 rows x 14 columns]"
      ]
     },
     "execution_count": 125,
     "metadata": {},
     "output_type": "execute_result"
    }
   ],
   "source": [
    "density = pd.read_csv(path+'data/density/SUMup_density_2021-fixed.csv')\n",
    "density"
   ]
  },
  {
   "cell_type": "markdown",
   "id": "f904feda-4b52-4229-8619-82f847d381f6",
   "metadata": {},
   "source": [
    "### Add Rennermalm et al. (2021)\n",
    "\n",
    "https://arcticdata.io/catalog/view/doi%3A10.18739%2FA2Q52FD98"
   ]
  },
  {
   "cell_type": "code",
   "execution_count": 126,
   "id": "33ebada1-20cd-4f4c-864b-a2c82a6370ec",
   "metadata": {},
   "outputs": [],
   "source": [
    "# Read in meta data\n",
    "metadata = pd.read_csv(path+'new_data/density-rennermalm/Core_meta_data.csv',\n",
    "                       skiprows=8,nrows=24,\n",
    "                       usecols=[0,1,2,3,5,6,7])\n",
    "\n",
    "# Convert separte date columns into single timestamp column\n",
    "dm = metadata['Date (first day, DD-MMM)'].values\n",
    "y = metadata['Year'].values\n",
    "dates = []\n",
    "for i in range(len(dm)):\n",
    "    daymonth = dm[i]\n",
    "    year = y[i]\n",
    "    date = dm[i]+'-'+str(y[i])\n",
    "    dates.append(pd.to_datetime(date).date())\n",
    "metadata['Date'] = dates"
   ]
  },
  {
   "cell_type": "code",
   "execution_count": 127,
   "id": "7cd5720f-2502-44c3-8d2e-5d1cbaf67b64",
   "metadata": {},
   "outputs": [],
   "source": [
    "# Get list of site names\n",
    "sites = metadata['Site name']\n",
    "core_numbers = metadata['Core #']\n",
    "\n",
    "# Set column order\n",
    "cols = ['Profile','Citation','Method','Date','Timestamp','Latitude','Longitude','Elevation','SDOS_Flag',\n",
    "        'Start_Depth','Stop_Depth','Midpoint','Density','Error']\n",
    "\n",
    "# Loop through and get each site file\n",
    "dfs = []\n",
    "for i in range(len(sites)):\n",
    "    site = sites[i].replace(' ','').replace('-','').replace('_','')\n",
    "    year = str(y[i])\n",
    "    core_number = str(core_numbers[i])\n",
    "    if core_number == 'nan':\n",
    "        fname = site+'_'+year+'.csv'\n",
    "    else:\n",
    "        fname = site+'_'+year+'_'+core_number[0]+'.csv'\n",
    "    \n",
    "    # Open dataframe with relevant columns\n",
    "    df = pd.read_csv(path+'new_data/density-rennermalm/'+fname,\n",
    "                     skiprows=6,usecols=[0,1,13],names=['Start_Depth','Stop_Depth','Density'])\n",
    "    \n",
    "    # Add metadata to dataframe\n",
    "    df['Latitude'] = metadata['Latitude (N)'][i]\n",
    "    df['Longitude'] = metadata['Longitude (E)'][i]\n",
    "    df['Elevation'] = metadata['Elevation (m a.s.l)'][i]\n",
    "    df['Timestamp'] = metadata['Date'][i]\n",
    "    df['Date'] = str(metadata['Date'][i])[0:10].replace('-','')\n",
    "    df['Midpoint'] = -9999\n",
    "    df['SDOS_Flag'] = 0\n",
    "    df['Error'] = -9999\n",
    "    df['Method'] = 4\n",
    "    df['Citation'] = density.Citation.values[-1]+1\n",
    "    df['Profile'] = density.Profile.values[-1]+i+1\n",
    "    \n",
    "    # Rearrange columns\n",
    "    df = df[cols]\n",
    "    dfs.append(df)\n",
    "\n",
    "rennermalm = pd.concat(dfs).reset_index(drop=True)"
   ]
  },
  {
   "cell_type": "code",
   "execution_count": 128,
   "id": "f5a12233-bc12-4bf8-9c54-53a11f515c9f",
   "metadata": {},
   "outputs": [
    {
     "name": "stdout",
     "output_type": "stream",
     "text": [
      "N measurements: 2674\n",
      "N profiles: 24\n"
     ]
    }
   ],
   "source": [
    "# Print statistics\n",
    "print('N measurements: {}'.format(len(rennermalm)))\n",
    "print('N profiles: {}'.format(len(rennermalm.Profile.unique())))"
   ]
  },
  {
   "cell_type": "code",
   "execution_count": 129,
   "id": "1424ba45-6704-473b-8ec1-b90ba94e9bd2",
   "metadata": {},
   "outputs": [],
   "source": [
    "# Add to dataset\n",
    "density = pd.concat([density,rennermalm]).reset_index(drop=True)"
   ]
  },
  {
   "cell_type": "markdown",
   "id": "a989c5fd-7ae1-4d79-85cc-e81535c311b0",
   "metadata": {},
   "source": [
    "### Add Niwano et al. 2020\n",
    "\n",
    "https://ads.nipr.ac.jp/data/meta/A20200911-001"
   ]
  },
  {
   "cell_type": "code",
   "execution_count": 130,
   "id": "e49c07d4-df1c-4ada-a6cb-3bbe5bd0720a",
   "metadata": {},
   "outputs": [],
   "source": [
    "# Read in data\n",
    "xls = pd.ExcelFile(path+'new_data/density-sumup-data-SIGMA-Traverse2018_density.xlsx')\n",
    "df = pd.read_excel(xls,'Density on Ice Sheets',\n",
    "                   skiprows=[0,1,3],usecols=[0,1,2,3,4,5,6,7,8,9,10])\n",
    "\n",
    "# Convert dates to pandas timestamp\n",
    "df['Timestamp'] = [d.date() for d in df.Date]\n",
    "\n",
    "# Loop through and change dates to string, add profile, and add citation\n",
    "dfis = []\n",
    "for i in range(len(df.ID.unique())):\n",
    "    dfi = df[df.ID==df.ID.unique()[i]].reset_index(drop=True)\n",
    "    dfi['Date'] = dfi['Date'].dt.strftime('%Y%m%d')\n",
    "    dfi['SDOS_Flag'] = 0\n",
    "    dfi['Citation'] = density.Citation.values[-1]+1\n",
    "    dfi['Profile'] = density.Profile.values[-1]+i+1\n",
    "    dfi['Start_Depth'] = dfi['Start Depth']\n",
    "    dfi['Stop_Depth'] = dfi['Stop Depth']\n",
    "    dfi = dfi[cols]\n",
    "    dfis.append(dfi)\n",
    "    \n",
    "niwano = pd.concat(dfis).reset_index(drop=True)"
   ]
  },
  {
   "cell_type": "code",
   "execution_count": 131,
   "id": "5849b93e-ab9e-4676-88e2-e261b1b83c55",
   "metadata": {},
   "outputs": [
    {
     "name": "stdout",
     "output_type": "stream",
     "text": [
      "N measurements: 104\n",
      "N profiles: 4\n"
     ]
    }
   ],
   "source": [
    "# Print statistics\n",
    "print('N measurements: {}'.format(len(niwano)))\n",
    "print('N profiles: {}'.format(len(niwano.Profile.unique())))"
   ]
  },
  {
   "cell_type": "code",
   "execution_count": 132,
   "id": "43754aa9-3f9e-4147-9675-b0f03d02dd81",
   "metadata": {},
   "outputs": [],
   "source": [
    "# Add to dataset\n",
    "density = pd.concat([density,niwano]).reset_index(drop=True)"
   ]
  },
  {
   "cell_type": "markdown",
   "id": "84f8af20-c3e0-4644-a7ba-eb7bc4f355e7",
   "metadata": {},
   "source": [
    "### Add Weinhart et al. 2021\n",
    "https://doi.org/10.1594/PANGAEA.928079"
   ]
  },
  {
   "cell_type": "code",
   "execution_count": 133,
   "id": "6e33aed4-a96f-4ced-a9e4-69cb60fa0331",
   "metadata": {},
   "outputs": [],
   "source": [
    "# Open dataframe\n",
    "df = pd.read_table(path+'new_data/density-EOP_snow_density.txt',skiprows=44,sep='\\t')\n",
    "df = df.sort_values('Location').reset_index()\n",
    "\n",
    "# These are 1-m density measurements, so add the midpoint as 0.5 m; and add other fields\n",
    "df['Midpoint'] = 0.5\n",
    "df['SDOS_Flag'] = 0\n",
    "df['Start_Depth'] = -9999\n",
    "df['Stop_Depth'] = -9999\n",
    "df['Citation'] = density.Citation.values[-1]+1\n",
    "df['Profile'] = density.Profile.values[-1]+df.Location\n",
    "df['Elevation'] = df['Elevation [m a.s.l.]']\n",
    "df['Timestamp'] = pd.to_datetime(df['Date/Time'])\n",
    "df['Date'] = df['Timestamp'].dt.strftime('%Y%m%d')\n",
    "df['Timestamp'] = [d.date() for d in df.Timestamp]\n",
    "df['Density'] = df['Density snow mean [kg/m**3]']\n",
    "df['Error'] = df['Density snow std dev [±]']\n",
    "df['Method'] = 10\n",
    "\n",
    "weinhart = df[cols]"
   ]
  },
  {
   "cell_type": "code",
   "execution_count": 134,
   "id": "f1809b1a-4afc-4fa4-a771-d6c0263d0aed",
   "metadata": {},
   "outputs": [
    {
     "name": "stdout",
     "output_type": "stream",
     "text": [
      "N measurements: 22\n",
      "N profiles: 22\n"
     ]
    }
   ],
   "source": [
    "# Print statistics\n",
    "print('N measurements: {}'.format(len(weinhart)))\n",
    "print('N profiles: {}'.format(len(weinhart.Profile.unique())))"
   ]
  },
  {
   "cell_type": "code",
   "execution_count": 135,
   "id": "719a4cda-985c-4a60-b966-4384a84d4e62",
   "metadata": {},
   "outputs": [],
   "source": [
    "# Add to dataset\n",
    "density = pd.concat([density,weinhart]).reset_index(drop=True)"
   ]
  },
  {
   "cell_type": "markdown",
   "id": "a3ce2baf-f2d3-420a-bb91-5cd413eb194a",
   "metadata": {},
   "source": [
    "### Add Wever et al. (2022)\n",
    "\n",
    "Wever, Nander; Keenan, Eric; Kausch, Thore; Lehning, Michael (2022). SnowMicroPen measurements and manual snowpits from Dronning Maud Land, East Antarctica. EnviDat. doi:10.16904/envidat.331"
   ]
  },
  {
   "cell_type": "code",
   "execution_count": 136,
   "id": "4768919d-a10b-471b-8b68-e84117c599e4",
   "metadata": {},
   "outputs": [],
   "source": [
    "# Read in data\n",
    "xls = pd.ExcelFile(path+'new_data/data-Nander.xlsx')\n",
    "df = pd.read_excel(xls,'Density on Ice Sheets',\n",
    "                   skiprows=[0,1,3],usecols=[0,1,2,3,4,5,6,7,8,9,10])\n",
    "\n",
    "# Convert dates to pandas timestamp\n",
    "df['Timestamp'] = [d.date() for d in df.Date]\n",
    "\n",
    "# Loop through and change dates to string, add profile, and add citation\n",
    "dfis = []\n",
    "for i in range(len(df.ID.unique())):\n",
    "    dfi = df[df.ID==df.ID.unique()[i]].reset_index(drop=True)\n",
    "    dfi['Date'] = dfi['Date'].dt.strftime('%Y%m%d')\n",
    "    dfi['SDOS_Flag'] = 0\n",
    "    dfi['Citation'] = density.Citation.values[-1]+1\n",
    "    dfi['Profile'] = density.Profile.values[-1]+i+1\n",
    "    dfi['Start_Depth'] = dfi['Start Depth']\n",
    "    dfi['Stop_Depth'] = dfi['Stop Depth']\n",
    "    dfi = dfi[cols]\n",
    "    dfis.append(dfi)\n",
    "    \n",
    "wever = pd.concat(dfis).reset_index(drop=True)"
   ]
  },
  {
   "cell_type": "code",
   "execution_count": 137,
   "id": "a98a1b32-621a-4315-8dea-71cdde49960b",
   "metadata": {},
   "outputs": [
    {
     "name": "stdout",
     "output_type": "stream",
     "text": [
      "N measurements: 119\n",
      "N profiles: 5\n"
     ]
    }
   ],
   "source": [
    "# Print statistics\n",
    "print('N measurements: {}'.format(len(wever)))\n",
    "print('N profiles: {}'.format(len(wever.Profile.unique())))"
   ]
  },
  {
   "cell_type": "code",
   "execution_count": 138,
   "id": "407acf8b-68f4-4bf9-8674-36818483924c",
   "metadata": {},
   "outputs": [],
   "source": [
    "# Add to dataset\n",
    "density = pd.concat([density,wever]).reset_index(drop=True)"
   ]
  },
  {
   "cell_type": "markdown",
   "id": "04adb9a8-9962-4dc8-ab94-6061f965578c",
   "metadata": {},
   "source": [
    "### Save new dataset"
   ]
  },
  {
   "cell_type": "code",
   "execution_count": 140,
   "id": "72bbee14-dec6-484e-b6b1-eb35f34a8213",
   "metadata": {},
   "outputs": [],
   "source": [
    "density.to_csv(path+'data/density/SUMup_density_2022.csv',index=False)"
   ]
  },
  {
   "cell_type": "code",
   "execution_count": null,
   "id": "02424b7f-bdc3-4bee-8e36-189f63d8ca3d",
   "metadata": {},
   "outputs": [],
   "source": []
  }
 ],
 "metadata": {
  "kernelspec": {
   "display_name": "analysis",
   "language": "python",
   "name": "analysis"
  },
  "language_info": {
   "codemirror_mode": {
    "name": "ipython",
    "version": 3
   },
   "file_extension": ".py",
   "mimetype": "text/x-python",
   "name": "python",
   "nbconvert_exporter": "python",
   "pygments_lexer": "ipython3",
   "version": "3.8.12"
  }
 },
 "nbformat": 4,
 "nbformat_minor": 5
}
